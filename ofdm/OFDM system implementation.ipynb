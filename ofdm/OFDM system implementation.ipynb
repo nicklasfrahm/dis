{
 "cells": [
  {
   "cell_type": "markdown",
   "metadata": {},
   "source": [
    "# OFDM system implementation\n",
    "\n",
    "In this assignment, you will implement an OFDM transmitter+receiver like shown in\n",
    "Fig. 1 in python in a jupyter notebook. Send me your results as a compressed zip\n",
    "file via email. Make sure to provide a logical step wise documentation, by defining\n",
    "and introducing all the variables you require. Define a function for each block in the\n",
    "OFDM block diagram. Assume that c(τ) = δ(τ) and begin by neglecting the additive\n",
    "noise. Verify and test each function by calling your implemented functions for input of\n",
    "your choice. Use the steps below as an aid.\n",
    "\n",
    "![OFDM block diagram](./ofdm.png)"
   ]
  },
  {
   "cell_type": "markdown",
   "metadata": {},
   "source": [
    "a) Import the following libraries: numpy as np and matplotlib.pyplot as plt."
   ]
  },
  {
   "cell_type": "code",
   "execution_count": 1,
   "metadata": {},
   "outputs": [],
   "source": [
    "import numpy as np\n",
    "import matplotlib.pyplot as plt\n",
    "\n",
    "# Configure the random number generator (RNG).\n",
    "rng = np.random.default_rng()"
   ]
  },
  {
   "cell_type": "markdown",
   "metadata": {},
   "source": [
    "b) Generate a random bitstream b[k], ∀ 0 ≤ k ≤ K via a function called bit_source(Ns) that returns the bitstream."
   ]
  },
  {
   "cell_type": "code",
   "execution_count": 2,
   "metadata": {},
   "outputs": [],
   "source": [
    "def bit_source(Ns):\n",
    "    # Generate random bit sequence of length Ns.\n",
    "    return np.random.randint(0, 2, Ns)\n",
    "\n",
    "assert len(bit_source(42)) == 42, \"Generated bit sequence does not have the same length!\""
   ]
  },
  {
   "cell_type": "markdown",
   "metadata": {},
   "source": [
    "c) Define a function implementing the modulation called map_bpsk(b) returning the modulated signal by mapping the 0 → 1 and 1 → −1."
   ]
  },
  {
   "cell_type": "code",
   "execution_count": 3,
   "metadata": {},
   "outputs": [],
   "source": [
    "def map_bpsk(b):\n",
    "    # Remap every 0 -> 1 and 1 -> -1.\n",
    "    temp = np.copy(b)\n",
    "    temp[temp == 1] = -1\n",
    "    temp[temp == 0] = 1\n",
    "    return temp\n",
    "\n",
    "assert np.array_equal(map_bpsk([0, 1, 1, 1, 0, 0, 1, 0]), [1, -1, -1, -1, 1, 1, -1, 1]), \"Mapping via binary phase shift keying implementation invalid!\"\n",
    "\n",
    "def unmap_bpsk(b):\n",
    "    # Remap every 1 -> 0 and -1 -> 1.\n",
    "    temp = np.real(np.copy(b))\n",
    "    temp[temp == 1] = 0\n",
    "    temp[temp == -1] = 1\n",
    "    return temp\n",
    "\n",
    "assert np.array_equal(unmap_bpsk([1, -1, -1, -1, 1, 1, -1, 1]), [0, 1, 1, 1, 0, 0, 1, 0]), \"Unmapping via binary phase shift keying implementation invalid!\"\n",
    "\n",
    "def detect(b):\n",
    "    temp = np.copy(b)\n",
    "    temp[temp > 0] = 1\n",
    "    temp[temp <= 0] = -1\n",
    "    return temp\n",
    "\n",
    "assert np.array_equal(detect([1.25, .5, .25, 0, -1, -.5, -.25, 0]), [1, 1, 1, -1, -1, -1, -1, -1]), \"Detecting implementation invalid!\"\n",
    "\n",
    "def modulate(symbols):\n",
    "    temp = np.copy(symbols)\n",
    "    symbol_count = temp.shape[0]\n",
    "    output = np.zeros(temp.shape, dtype=np.complex)\n",
    "    \n",
    "    for symbol in range(symbol_count):\n",
    "        output[symbol,:] = map_bpsk(temp[symbol,:])\n",
    "        \n",
    "    return output\n",
    "        \n",
    "assert np.array_equal(modulate([[0, 1], [1, 0]]), [[1, -1], [-1, 1]]), \"Modulation implementation invalid!\"\n",
    "\n",
    "def demodulate(symbols):\n",
    "    temp = np.copy(symbols)\n",
    "    symbol_count = temp.shape[0]\n",
    "    output = np.zeros(temp.shape, dtype=np.complex)\n",
    "    \n",
    "    for symbol in range(symbol_count):\n",
    "        output[symbol,:] = unmap_bpsk(temp[symbol,:])\n",
    "        \n",
    "    return output\n",
    "        \n",
    "assert np.array_equal(demodulate([[1, -1], [-1, 1]]), [[0, 1], [1, 0]]), \"Demodulation implementation invalid!\""
   ]
  },
  {
   "cell_type": "markdown",
   "metadata": {},
   "source": [
    "d) Implement IDFT/IFFT or DFT/FFT."
   ]
  },
  {
   "cell_type": "code",
   "execution_count": 4,
   "metadata": {},
   "outputs": [],
   "source": [
    "def pad(symbol, width):\n",
    "    temp = np.copy(symbol)\n",
    "    length = temp.shape[0]\n",
    "    padding = np.zeros(width-length)\n",
    "    return np.insert(temp, np.floor(length/2).astype(np.int), padding, axis=0)\n",
    "\n",
    "assert np.array_equal(pad([1, 2, 3], 6), [1, 0, 0, 0, 2, 3]), \"Padding implementation invalid!\"\n",
    "    \n",
    "def unpad(symbol, width):\n",
    "    temp = np.copy(symbol)\n",
    "    length = temp.shape[0]\n",
    "    middle = np.floor(length/2).astype(np.int)\n",
    "    diff = length-width\n",
    "    remove_range = np.arange(np.floor(middle-diff/2), np.floor(middle+diff/2)).astype(np.int)\n",
    "    return np.delete(temp, remove_range, axis=0)\n",
    "\n",
    "assert np.array_equal(unpad(np.array([1, 0, 0, 0, 2, 3]), 3), [1, 2, 3]), \"Unpadding implementation invalid!\"\n",
    "\n",
    "def ifft(symbols):\n",
    "    temp = np.copy(symbols)\n",
    "    symbol_count = temp.shape[0]\n",
    "    output = np.zeros(temp.shape, dtype=np.complex)\n",
    "    \n",
    "    for symbol in range(symbol_count):\n",
    "        output[symbol,:] = np.fft.ifft(temp[symbol,:])\n",
    "    \n",
    "    return output\n",
    "\n",
    "def fft(symbols):\n",
    "    temp = np.copy(symbols)\n",
    "    symbol_count = temp.shape[0]\n",
    "    output = np.zeros(temp.shape, dtype=np.complex)\n",
    "    \n",
    "    for symbol in range(symbol_count):\n",
    "        output[symbol,:] = np.fft.fft(temp[symbol,:])\n",
    "    \n",
    "    return output\n",
    "\n",
    "assert np.array_equal(fft(ifft([[1, -1], [-1, 1]])), [[1, -1], [-1, 1]]), \"IFFT or FFT implementation invalid!\""
   ]
  },
  {
   "cell_type": "markdown",
   "metadata": {},
   "source": [
    "e) Implement functions needed for the cyclic prefix, the serial-to-parallel-conversion and the parallel-to-serial-conversion."
   ]
  },
  {
   "cell_type": "code",
   "execution_count": 5,
   "metadata": {},
   "outputs": [],
   "source": [
    "def next_power2(x):\n",
    "    return np.power(2, np.ceil(np.log2(x))).astype(np.int)\n",
    "\n",
    "assert next_power2(2) == 2, \"Next power of 2 implementation invalid!\"\n",
    "assert next_power2(3) == 4, \"Next power of 2 implementation invalid!\"\n",
    "assert next_power2(4) == 4, \"Next power of 2 implementation invalid!\"\n",
    "assert next_power2(5) == 8, \"Next power of 2 implementation invalid!\"\n",
    "assert next_power2(9) == 16, \"Next power of 2 implementation invalid!\"\n",
    "\n",
    "def sipo(bitstream, data_width, padded_width):\n",
    "    temp = np.copy(bitstream)\n",
    "    symbol_count = np.ceil(temp.shape[0]/data_width).astype(np.int)\n",
    "    output = np.zeros((symbol_count, padded_width), dtype=np.complex)\n",
    "    \n",
    "    for symbol in range(symbol_count):\n",
    "        first = symbol*data_width\n",
    "        last = first+data_width\n",
    "        output[symbol] = pad(temp[first:last], padded_width)\n",
    "        \n",
    "    return output\n",
    "\n",
    "assert np.array_equal(sipo([1, 2, 3, 4, 5, 6, 7, 8, 9], 3, 4), [[1, 0, 2, 3], [4, 0, 5, 6], [7, 0, 8, 9]]), \"Serial to parallel conversion implementation invalid!\"\n",
    "\n",
    "def piso(symbols, data_width):\n",
    "    temp = np.copy(symbols)\n",
    "    symbol_count = temp.shape[0]\n",
    "    output = np.zeros(symbol_count*data_width, dtype=np.complex)\n",
    "    \n",
    "    for symbol in range(symbol_count):\n",
    "        first = symbol*data_width\n",
    "        last = first+data_width\n",
    "        output[first:last] = unpad(temp[symbol], data_width)\n",
    "        \n",
    "    return output\n",
    "\n",
    "assert np.array_equal(piso([[1, 0, 2, 3], [4, 0, 5, 6], [7, 0, 8, 9]], 3), [1, 2, 3, 4, 5, 6, 7, 8, 9]), \"Parallel to serial conversion implementation invalid!\"\n",
    "\n",
    "def add_cyclic_prefix(symbols, prefix_length):\n",
    "    temp = np.copy(symbols)\n",
    "    symbol_count = temp.shape[0]\n",
    "    symbol_size = temp.shape[1]\n",
    "    output = np.zeros((symbol_count, symbol_size+prefix_length), dtype=np.complex)\n",
    "    \n",
    "    for symbol in range(symbol_count):\n",
    "        output[symbol,:] = np.concatenate((temp[symbol,-prefix_length:], temp[symbol,:]))\n",
    "        \n",
    "    return output\n",
    "\n",
    "assert np.array_equal(add_cyclic_prefix([[1, 2, 3, 4], [5, 6, 7, 8]], 2), [[3, 4, 1, 2, 3, 4], [7, 8, 5, 6, 7, 8]]), \"Cylic prefix adding implementation invalid!\"\n",
    "\n",
    "def remove_cyclic_prefix(symbols, prefix_length):\n",
    "    temp = np.copy(symbols)\n",
    "    symbol_count = temp.shape[0]\n",
    "    symbol_size = temp.shape[1]\n",
    "    output = np.zeros((symbol_count, symbol_size-prefix_length), dtype=np.complex)\n",
    "    \n",
    "    for symbol in range(symbol_count):\n",
    "        output[symbol,:] = temp[symbol,prefix_length:symbol_size]\n",
    "        \n",
    "    return output\n",
    "\n",
    "assert np.array_equal(remove_cyclic_prefix([[3, 4, 1, 2, 3, 4], [7, 8, 5, 6, 7, 8]], 2), [[1, 2, 3, 4], [5, 6, 7, 8]]), \"Cylic prefix removing implementation invalid!\""
   ]
  },
  {
   "cell_type": "markdown",
   "metadata": {},
   "source": [
    "f) Write a function called bit_error_rate(input, output) that compares your input\n",
    "data vector with your output data vector and counts the bit errors in case the\n",
    "vector elements are pairwise not the same. The function should return that count\n",
    "divided by the vector length."
   ]
  },
  {
   "cell_type": "code",
   "execution_count": 6,
   "metadata": {},
   "outputs": [],
   "source": [
    "def bit_error_rate(reference, detected):\n",
    "    # Computes the bit error rate (BER) by comparing the input to the output.\n",
    "    errors = np.equal(reference, detected)\n",
    "    return np.sum(np.invert(errors))/errors.shape[0]\n",
    "\n",
    "assert np.isclose(bit_error_rate([1, 0, 1, 0, 1, 0, 1, 0, 1, 0], [1, 0, 1, 0, 1, 0, 1, 0, 1, 1]), 0.1), \"Bit error rate implementation invalid.\""
   ]
  },
  {
   "cell_type": "code",
   "execution_count": 7,
   "metadata": {},
   "outputs": [],
   "source": [
    "def add_gaussian_noise(bitstream, snr_db):\n",
    "    temp = np.copy(bitstream)\n",
    "    noise = np.sqrt(10**(-snr_db/10))*rng.standard_normal(temp.shape)\n",
    "    return temp+noise"
   ]
  },
  {
   "cell_type": "code",
   "execution_count": 8,
   "metadata": {},
   "outputs": [],
   "source": [
    "def wireless_channel(bitstream, subcarrier_count, prefix_length, snr_db = 200, debug=False):\n",
    "    # Define system parameters.\n",
    "    symbol_width = next_power2(subcarrier_count)\n",
    "    padded_symbol_width = symbol_width+prefix_length\n",
    "    \n",
    "    # Create a copy of the original data.\n",
    "    snd_data = np.copy(bitstream)\n",
    "    if debug:\n",
    "        print(\"[SND] Data:\")\n",
    "        print(snd_data)\n",
    "        print()\n",
    "        \n",
    "    # Parallelize the data into symbols and pad it to have a subcarrier count that is a power of 2.\n",
    "    snd_parallelized_and_padded_symbols = sipo(snd_data, subcarrier_count, symbol_width)\n",
    "    if debug:\n",
    "        print(\"[SND] Parallelized and padded:\")\n",
    "        print(snd_parallelized_and_padded_symbols)\n",
    "        print()\n",
    "    \n",
    "    # Modulate the data symbols via BPSK (binary phase shift keying).\n",
    "    snd_modulated_symbols = modulate(snd_parallelized_and_padded_symbols)\n",
    "    if debug:\n",
    "        print(\"[SND] Modulated:\")\n",
    "        print(snd_modulated_symbols)\n",
    "        print()\n",
    "    \n",
    "    # Apply inverse fast Fourier transform.\n",
    "    snd_ifft_symbols = ifft(snd_modulated_symbols)\n",
    "    if debug:\n",
    "        print(\"[SND] IFFT:\")\n",
    "        print(snd_ifft_symbols)\n",
    "        print()\n",
    "        \n",
    "    # Add cyclic prefix.\n",
    "    snd_cyclic_prefix_symbols = add_cyclic_prefix(snd_ifft_symbols, prefix_length)\n",
    "    if debug:\n",
    "        print(\"[SND] With cyclic prefix:\")\n",
    "        print(snd_cyclic_prefix_symbols)\n",
    "        print()\n",
    "        \n",
    "    # Convert to serial for transmission.\n",
    "    snd_serialized = piso(snd_cyclic_prefix_symbols, padded_symbol_width)\n",
    "    if debug:\n",
    "        print(\"[SND] Serialized:\")\n",
    "        print(snd_serialized)\n",
    "        print()\n",
    "        \n",
    "    # Add noise.\n",
    "    air_data = add_gaussian_noise(snd_serialized, snr_db)\n",
    "    if debug:\n",
    "        print(\"[AIR] Data:\")\n",
    "        print(air_data)\n",
    "        print()\n",
    "        \n",
    "    # Convert to parallel to remove cyclic prefix.\n",
    "    rcv_parallelized_symbols = sipo(air_data, padded_symbol_width, padded_symbol_width)\n",
    "    if debug:\n",
    "        print(\"[RCV] Parallelized:\")\n",
    "        print(rcv_parallelized_symbols)\n",
    "        print()\n",
    "        \n",
    "    # Remove cyclic prefix.\n",
    "    rcv_cyclic_prefix_symbols = remove_cyclic_prefix(rcv_parallelized_symbols, prefix_length)\n",
    "    if debug:\n",
    "        print(\"[RCV] Without cyclic prefix:\")\n",
    "        print(rcv_cyclic_prefix_symbols)\n",
    "        print()\n",
    "        \n",
    "    # Apply fast Fourier transform.\n",
    "    rcv_fft_symbols = fft(rcv_cyclic_prefix_symbols)\n",
    "    if debug:\n",
    "        print(\"[RCV] FFT:\")\n",
    "        print(rcv_fft_symbols)\n",
    "        print()\n",
    "        \n",
    "    # Detect data signals.\n",
    "    rcv_detected = detect(rcv_fft_symbols)\n",
    "    if debug:\n",
    "        print(\"[RCV] Detected:\")\n",
    "        print(rcv_detected)\n",
    "        print()\n",
    "        \n",
    "    # Demodulate signal.\n",
    "    rcv_demodulated_symbols = demodulate(rcv_detected)\n",
    "    if debug:\n",
    "        print(\"[RCV] Demodulated:\")\n",
    "        print(rcv_demodulated_symbols)\n",
    "        print()\n",
    "    \n",
    "    # Unpadded serialized data.\n",
    "    rcv_serialized_and_unpadded = piso(rcv_demodulated_symbols, subcarrier_count)\n",
    "    if debug:\n",
    "        print(\"[RCV] Serialized and unpadded:\")\n",
    "        print(rcv_serialized_and_unpadded)\n",
    "        print()\n",
    "        \n",
    "    # Received data.\n",
    "    rcv_data = np.real(rcv_serialized_and_unpadded).astype(np.int)\n",
    "    if debug:\n",
    "        print(\"[RCV] Data:\")\n",
    "        print(rcv_data)\n",
    "        print()\n",
    "    \n",
    "    return rcv_data, bit_error_rate(snd_data, rcv_data)"
   ]
  },
  {
   "cell_type": "markdown",
   "metadata": {},
   "source": [
    "g) Test your system functions by using a deterministic input sequence of your choice and then by using the random bitstream by running it a multiple times (for instance runs=1000 in a for loop) on random input data sequences and now also add additive white gaussian noise to the received values each time. Calculate the SNR = 1/$σ_n^2$, where $σ_n^2$ is the noise variance of the additive white Gaussian noise. Simulate your results for different [SNR] in dB = [0, 2, ..., 20]. Accumulate the bit error for every SNR in every run (after your for loop for the runs). Then divide that error by the number of runs. Finally, plot the bit error-rate versus the SNR in dB and apply a logarithmic axis to the plot yaxis. Furthermore, make sure, that the plot has the form you expect it to have, and use grid lines, a title, a legend and axis labels for your plot (fontsize > 24)."
   ]
  },
  {
   "cell_type": "code",
   "execution_count": 9,
   "metadata": {},
   "outputs": [
    {
     "name": "stdout",
     "output_type": "stream",
     "text": [
      "[SND] Data: [1 0 1 0 1 0 1 0 1 0]\n",
      "[RCV] Data: [1 0 1 0 1 0 1 0 1 0]\n",
      "[BER] 0.00%\n"
     ]
    }
   ],
   "source": [
    "# Deterministic input sequence.\n",
    "det_in = np.array([1, 0, 1, 0, 1, 0, 1, 0, 1, 0])\n",
    "det_out, det_ber = wireless_channel(det_in, 10, 2)\n",
    "\n",
    "print(\"[SND] Data:\", det_in)\n",
    "print(\"[RCV] Data:\", det_out)\n",
    "print(\"[BER] %.2f%%\"%(100*det_ber))\n",
    "\n",
    "assert np.array_equal(det_in, det_out), \"[DET] OFDM implementation invalid!\""
   ]
  },
  {
   "cell_type": "code",
   "execution_count": 10,
   "metadata": {},
   "outputs": [],
   "source": [
    "# Random input sequence.\n",
    "rand_in = bit_source(5000)\n",
    "rand_out, rand_ber = wireless_channel(rand_in, 10, 2)\n",
    "\n",
    "assert np.array_equal(rand_in, rand_out), \"[RND] OFDM implementation invalid!\""
   ]
  },
  {
   "cell_type": "code",
   "execution_count": 11,
   "metadata": {},
   "outputs": [
    {
     "name": "stdout",
     "output_type": "stream",
     "text": [
      "SNR:  0dB    BER: 36.68%\n",
      "SNR:  2dB    BER: 33.61%\n",
      "SNR:  4dB    BER: 29.44%\n",
      "SNR:  6dB    BER: 25.10%\n",
      "SNR:  8dB    BER: 19.48%\n",
      "SNR: 10dB    BER: 13.85%\n",
      "SNR: 12dB    BER: 8.71%\n",
      "SNR: 14dB    BER: 4.43%\n",
      "SNR: 16dB    BER: 1.82%\n",
      "SNR: 18dB    BER: 0.46%\n",
      "SNR: 20dB    BER: 0.07%\n"
     ]
    }
   ],
   "source": [
    "# Simulate wireless channel multiple times.\n",
    "sim_count = 100\n",
    "subchannel_count = 10\n",
    "prefix_length = subchannel_count//4\n",
    "sample_count = subchannel_count*100\n",
    "snrs = np.arange(0, 22, 2)\n",
    "bers = []\n",
    "\n",
    "for snr in snrs:\n",
    "    accumulated_bit_error_rate = 0\n",
    "    \n",
    "    for sim in range(sim_count):\n",
    "        sim_in = bit_source(sample_count)\n",
    "        sim_out, sim_ber = wireless_channel(sim_in, subchannel_count, prefix_length, snr)\n",
    "        accumulated_bit_error_rate += sim_ber\n",
    "        \n",
    "    accumulated_bit_error_rate /= sim_count\n",
    "    bers.append(accumulated_bit_error_rate)\n",
    "    print(\"SNR: %sdB    BER: %2.2f%%\"%(str(snr).rjust(2, ' '), accumulated_bit_error_rate*100))\n"
   ]
  },
  {
   "cell_type": "code",
   "execution_count": 12,
   "metadata": {
    "scrolled": false
   },
   "outputs": [
    {
     "data": {
      "image/png": "[encoded data removed]",
      "text/plain": [
       "<Figure size 1008x576 with 1 Axes>"
      ]
     },
     "metadata": {
      "needs_background": "light"
     },
     "output_type": "display_data"
    }
   ],
   "source": [
    "plt.rcParams.update({'font.size': 24})\n",
    "fig, ax = plt.subplots(figsize=(14,8))\n",
    "ax.semilogy(snrs, bers, label='Simulation', color='teal', marker='o', markersize=10)\n",
    "ax.set_xlabel(xlabel='SNR [dB]')\n",
    "ax.set_ylabel(ylabel='BER')\n",
    "ax.grid(True)\n",
    "ax.legend();"
   ]
  }
 ],
 "metadata": {
  "kernelspec": {
   "display_name": "Python 3",
   "language": "python",
   "name": "python3"
  },
  "language_info": {
   "codemirror_mode": {
    "name": "ipython",
    "version": 3
   },
   "file_extension": ".py",
   "mimetype": "text/x-python",
   "name": "python",
   "nbconvert_exporter": "python",
   "pygments_lexer": "ipython3",
   "version": "3.6.9"
  }
 },
 "nbformat": 4,
 "nbformat_minor": 4
}
