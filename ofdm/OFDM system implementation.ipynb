{
 "cells": [
  {
   "cell_type": "markdown",
   "metadata": {},
   "source": [
    "# OFDM system implementation\n",
    "\n",
    "In this assignment, you will implement an OFDM transmitter+receiver like shown in\n",
    "Fig. 1 in python in a jupyter notebook. Send me your results as a compressed zip\n",
    "file via email. Make sure to provide a logical step wise documentation, by defining\n",
    "and introducing all the variables you require. Define a function for each block in the\n",
    "OFDM block diagram. Assume that c(τ) = δ(τ) and begin by neglecting the additive\n",
    "noise. Verify and test each function by calling your implemented functions for input of\n",
    "your choice. Use the steps below as an aid.\n",
    "\n",
    "![OFDM block diagram](./ofdm.png)"
   ]
  },
  {
   "cell_type": "markdown",
   "metadata": {},
   "source": [
    "a) Import the following libraries: numpy as np and matplotlib.pyplot as plt."
   ]
  },
  {
   "cell_type": "code",
   "execution_count": 2,
   "metadata": {},
   "outputs": [],
   "source": [
    "import numpy as np\n",
    "import matplotlib.pyplot as plt"
   ]
  },
  {
   "cell_type": "markdown",
   "metadata": {},
   "source": [
    "b) Generate a random bitstream b[k], ∀ 0 ≤ k ≤ K via a function called bit_source(Ns) that returns the bitstream."
   ]
  },
  {
   "cell_type": "code",
   "execution_count": 14,
   "metadata": {},
   "outputs": [],
   "source": [
    "def bit_source(Ns):\n",
    "    # Generate random bit sequence of length Ns.\n",
    "    return np.random.randint(0, 2, Ns)\n",
    "\n",
    "assert len(bit_source(42)) == 42, \"Generated bit sequence does not have the same length!\""
   ]
  },
  {
   "cell_type": "markdown",
   "metadata": {},
   "source": [
    "c) Define a function implementing the modulation called map_bpsk(b) returning the modulated signal by mapping the 0 → 1 and 1 → −1."
   ]
  },
  {
   "cell_type": "code",
   "execution_count": 16,
   "metadata": {},
   "outputs": [],
   "source": [
    "def map_bpsk(b):\n",
    "    # Remap every 0 -> 1 and 1 -> -1.\n",
    "    temp = np.copy(b)\n",
    "    temp[temp == 1] = -1\n",
    "    temp[temp == 0] = 1\n",
    "    return temp\n",
    "\n",
    "assert np.array_equal(map_bpsk([0, 1, 1, 1, 0, 0, 1, 0]), [1, -1, -1, -1, 1, 1, -1, 1]), \"Binary phase shift keying implementation invalid!\""
   ]
  },
  {
   "cell_type": "markdown",
   "metadata": {},
   "source": [
    "d) Implement IDFT/IFFT or DFT/FFT."
   ]
  },
  {
   "cell_type": "code",
   "execution_count": 13,
   "metadata": {},
   "outputs": [],
   "source": [
    "def pad(x):\n",
    "    temp = np.copy(x)\n",
    "    i = 2\n",
    "    while(i <= len(temp)):\n",
    "        if(i == len(temp)):\n",
    "            return temp\n",
    "        else:\n",
    "            i *= 2\n",
    "    # Calculate the number of zeros to add.\n",
    "    padding = np.zeros(i - len(temp), dtype=np.int)\n",
    "    # Add the zeros in the middle of the array.\n",
    "    return np.insert(temp, int(np.floor(len(temp)/2)), padding, axis=0)\n",
    "    \n",
    "def fft(x):\n",
    "    return np.fft.fft(pad(x))\n",
    "def ifft(x):\n",
    "    return np.fft.ifft(pad(x))"
   ]
  },
  {
   "cell_type": "markdown",
   "metadata": {},
   "source": [
    "e) Implement functions needed for the cyclic prefix, the serial-to-parallel-conversion and the parallel-to-serial-conversion."
   ]
  },
  {
   "cell_type": "code",
   "execution_count": null,
   "metadata": {},
   "outputs": [],
   "source": [
    "# TBD"
   ]
  },
  {
   "cell_type": "markdown",
   "metadata": {},
   "source": [
    "f) Write a function called bit_error_rate(input, output) that compares your input\n",
    "data vector with your output data vector and counts the bit errors in case the\n",
    "vector elements are pairwise not the same. The function should return that count\n",
    "divided by the vector length."
   ]
  },
  {
   "cell_type": "code",
   "execution_count": 2,
   "metadata": {},
   "outputs": [],
   "source": [
    "def bit_error_rate(reference, detected):\n",
    "    # Computes the bit error rate (BER) by comparing the input to the output.\n",
    "    errors = np.equal(reference, detected)\n",
    "    return np.sum(np.invert(errors))/errors.shape[0]"
   ]
  },
  {
   "cell_type": "markdown",
   "metadata": {},
   "source": [
    "g) Test your system functions by using a deterministic input sequence of your choice and then by using the random bitstream by running it a multiple times (for instance runs=1000 in a for loop) on random input data sequences and now also add additive white gaussian noise to the received values each time. Calculate the SNR = 1/$σ_n^2$, where $σ_n^2$ is the noise variance of the additive white Gaussian noise. Simulate your results for different [SNR] in dB = [0, 2, ..., 20]. Accumulate the bit error for every SNR in every run (after your for loop for the runs). Then divide that error by the number of runs. Finally, plot the bit\n",
    "error-rate versus the SNR in dB and apply a logarithmic axis to the plot yaxis. Furthermore, make sure, that the plot has the form you expect it to have, and use grid lines, a title, a legend and axis labels for your plot (fontsize > 24)."
   ]
  },
  {
   "cell_type": "code",
   "execution_count": null,
   "metadata": {},
   "outputs": [],
   "source": [
    "# TBD"
   ]
  }
 ],
 "metadata": {
  "kernelspec": {
   "display_name": "Python 3",
   "language": "python",
   "name": "python3"
  },
  "language_info": {
   "codemirror_mode": {
    "name": "ipython",
    "version": 3
   },
   "file_extension": ".py",
   "mimetype": "text/x-python",
   "name": "python",
   "nbconvert_exporter": "python",
   "pygments_lexer": "ipython3",
   "version": "3.6.9"
  }
 },
 "nbformat": 4,
 "nbformat_minor": 4
}
